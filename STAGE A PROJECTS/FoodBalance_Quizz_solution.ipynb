{
 "cells": [
  {
   "cell_type": "code",
   "execution_count": 1,
   "id": "a0f0003d-0675-4986-b582-64d321e752c3",
   "metadata": {},
   "outputs": [],
   "source": [
    "import pandas as pd"
   ]
  },
  {
   "cell_type": "code",
   "execution_count": 2,
   "id": "2625b598-787f-4f28-a1cc-0e1812bf5b87",
   "metadata": {},
   "outputs": [],
   "source": [
    "data = pd.read_csv('FoodBalanceSheets_E_Africa_NOFLAG.csv', encoding = 'latin-1')"
   ]
  },
  {
   "cell_type": "code",
   "execution_count": 3,
   "id": "66aa11d7-5010-44a2-9e65-43fc64dc04a3",
   "metadata": {},
   "outputs": [
    {
     "data": {
      "text/html": [
       "<div>\n",
       "<style scoped>\n",
       "    .dataframe tbody tr th:only-of-type {\n",
       "        vertical-align: middle;\n",
       "    }\n",
       "\n",
       "    .dataframe tbody tr th {\n",
       "        vertical-align: top;\n",
       "    }\n",
       "\n",
       "    .dataframe thead th {\n",
       "        text-align: right;\n",
       "    }\n",
       "</style>\n",
       "<table border=\"1\" class=\"dataframe\">\n",
       "  <thead>\n",
       "    <tr style=\"text-align: right;\">\n",
       "      <th></th>\n",
       "      <th>Area Code</th>\n",
       "      <th>Area</th>\n",
       "      <th>Item Code</th>\n",
       "      <th>Item</th>\n",
       "      <th>Element Code</th>\n",
       "      <th>Element</th>\n",
       "      <th>Unit</th>\n",
       "      <th>Y2014</th>\n",
       "      <th>Y2015</th>\n",
       "      <th>Y2016</th>\n",
       "      <th>Y2017</th>\n",
       "      <th>Y2018</th>\n",
       "    </tr>\n",
       "  </thead>\n",
       "  <tbody>\n",
       "    <tr>\n",
       "      <th>0</th>\n",
       "      <td>4</td>\n",
       "      <td>Algeria</td>\n",
       "      <td>2501</td>\n",
       "      <td>Population</td>\n",
       "      <td>511</td>\n",
       "      <td>Total Population - Both sexes</td>\n",
       "      <td>1000 persons</td>\n",
       "      <td>38924.00</td>\n",
       "      <td>39728.00</td>\n",
       "      <td>40551.00</td>\n",
       "      <td>41389.00</td>\n",
       "      <td>42228.00</td>\n",
       "    </tr>\n",
       "    <tr>\n",
       "      <th>1</th>\n",
       "      <td>4</td>\n",
       "      <td>Algeria</td>\n",
       "      <td>2501</td>\n",
       "      <td>Population</td>\n",
       "      <td>5301</td>\n",
       "      <td>Domestic supply quantity</td>\n",
       "      <td>1000 tonnes</td>\n",
       "      <td>0.00</td>\n",
       "      <td>0.00</td>\n",
       "      <td>0.00</td>\n",
       "      <td>0.00</td>\n",
       "      <td>0.00</td>\n",
       "    </tr>\n",
       "    <tr>\n",
       "      <th>2</th>\n",
       "      <td>4</td>\n",
       "      <td>Algeria</td>\n",
       "      <td>2901</td>\n",
       "      <td>Grand Total</td>\n",
       "      <td>664</td>\n",
       "      <td>Food supply (kcal/capita/day)</td>\n",
       "      <td>kcal/capita/day</td>\n",
       "      <td>3377.00</td>\n",
       "      <td>3379.00</td>\n",
       "      <td>3372.00</td>\n",
       "      <td>3341.00</td>\n",
       "      <td>3322.00</td>\n",
       "    </tr>\n",
       "    <tr>\n",
       "      <th>3</th>\n",
       "      <td>4</td>\n",
       "      <td>Algeria</td>\n",
       "      <td>2901</td>\n",
       "      <td>Grand Total</td>\n",
       "      <td>674</td>\n",
       "      <td>Protein supply quantity (g/capita/day)</td>\n",
       "      <td>g/capita/day</td>\n",
       "      <td>94.90</td>\n",
       "      <td>94.35</td>\n",
       "      <td>94.72</td>\n",
       "      <td>92.82</td>\n",
       "      <td>91.83</td>\n",
       "    </tr>\n",
       "    <tr>\n",
       "      <th>4</th>\n",
       "      <td>4</td>\n",
       "      <td>Algeria</td>\n",
       "      <td>2901</td>\n",
       "      <td>Grand Total</td>\n",
       "      <td>684</td>\n",
       "      <td>Fat supply quantity (g/capita/day)</td>\n",
       "      <td>g/capita/day</td>\n",
       "      <td>80.06</td>\n",
       "      <td>79.36</td>\n",
       "      <td>77.40</td>\n",
       "      <td>80.19</td>\n",
       "      <td>77.28</td>\n",
       "    </tr>\n",
       "  </tbody>\n",
       "</table>\n",
       "</div>"
      ],
      "text/plain": [
       "   Area Code     Area  Item Code         Item  Element Code  \\\n",
       "0          4  Algeria       2501   Population           511   \n",
       "1          4  Algeria       2501   Population          5301   \n",
       "2          4  Algeria       2901  Grand Total           664   \n",
       "3          4  Algeria       2901  Grand Total           674   \n",
       "4          4  Algeria       2901  Grand Total           684   \n",
       "\n",
       "                                  Element             Unit     Y2014  \\\n",
       "0           Total Population - Both sexes     1000 persons  38924.00   \n",
       "1                Domestic supply quantity      1000 tonnes      0.00   \n",
       "2           Food supply (kcal/capita/day)  kcal/capita/day   3377.00   \n",
       "3  Protein supply quantity (g/capita/day)     g/capita/day     94.90   \n",
       "4      Fat supply quantity (g/capita/day)     g/capita/day     80.06   \n",
       "\n",
       "      Y2015     Y2016     Y2017     Y2018  \n",
       "0  39728.00  40551.00  41389.00  42228.00  \n",
       "1      0.00      0.00      0.00      0.00  \n",
       "2   3379.00   3372.00   3341.00   3322.00  \n",
       "3     94.35     94.72     92.82     91.83  \n",
       "4     79.36     77.40     80.19     77.28  "
      ]
     },
     "execution_count": 3,
     "metadata": {},
     "output_type": "execute_result"
    }
   ],
   "source": [
    "data.head()"
   ]
  },
  {
   "cell_type": "markdown",
   "id": "0e133379-b289-4f01-922c-9ee9dba287b3",
   "metadata": {},
   "source": [
    "Question 1"
   ]
  },
  {
   "cell_type": "code",
   "execution_count": 56,
   "id": "4c5180c1-4ceb-45f0-a490-d81f7a2b7002",
   "metadata": {},
   "outputs": [
    {
     "data": {
      "text/plain": [
       "0.024456819495221747"
      ]
     },
     "execution_count": 56,
     "metadata": {},
     "output_type": "execute_result"
    }
   ],
   "source": [
    "check1 = data['Element Code'].corr(data.Y2014)\n",
    "check1"
   ]
  },
  {
   "cell_type": "code",
   "execution_count": 57,
   "id": "2938bc82-06eb-406f-890b-9f27e7ca48c0",
   "metadata": {},
   "outputs": [
    {
     "data": {
      "text/plain": [
       "0.02388919930163993"
      ]
     },
     "execution_count": 57,
     "metadata": {},
     "output_type": "execute_result"
    }
   ],
   "source": [
    "check2 = data['Element Code'].corr(data.Y2015)\n",
    "check2"
   ]
  },
  {
   "cell_type": "code",
   "execution_count": 58,
   "id": "d686cc58-ceb2-41e1-92a0-976942d44311",
   "metadata": {},
   "outputs": [
    {
     "data": {
      "text/plain": [
       "0.023443997584961445"
      ]
     },
     "execution_count": 58,
     "metadata": {},
     "output_type": "execute_result"
    }
   ],
   "source": [
    "check3 = data['Element Code'].corr(data.Y2016)\n",
    "check3"
   ]
  },
  {
   "cell_type": "code",
   "execution_count": 59,
   "id": "b80cf39c-6c19-47b2-917b-d5a8030e9476",
   "metadata": {},
   "outputs": [
    {
     "data": {
      "text/plain": [
       "0.02425400776004577"
      ]
     },
     "execution_count": 59,
     "metadata": {},
     "output_type": "execute_result"
    }
   ],
   "source": [
    "check4 = data['Element Code'].corr(data.Y2017)\n",
    "check4"
   ]
  },
  {
   "cell_type": "markdown",
   "id": "3ceeb794-9a05-4d1e-8259-a1d936a39188",
   "metadata": {},
   "source": [
    "Question 2"
   ]
  },
  {
   "cell_type": "code",
   "execution_count": 6,
   "id": "3ad880ef-264c-455e-85f9-52c80ac7cd1a",
   "metadata": {},
   "outputs": [
    {
     "data": {
      "text/html": [
       "<div>\n",
       "<style scoped>\n",
       "    .dataframe tbody tr th:only-of-type {\n",
       "        vertical-align: middle;\n",
       "    }\n",
       "\n",
       "    .dataframe tbody tr th {\n",
       "        vertical-align: top;\n",
       "    }\n",
       "\n",
       "    .dataframe thead th {\n",
       "        text-align: right;\n",
       "    }\n",
       "</style>\n",
       "<table border=\"1\" class=\"dataframe\">\n",
       "  <thead>\n",
       "    <tr style=\"text-align: right;\">\n",
       "      <th></th>\n",
       "      <th>Area Code</th>\n",
       "      <th>Item Code</th>\n",
       "      <th>Element Code</th>\n",
       "      <th>Y2014</th>\n",
       "      <th>Y2015</th>\n",
       "      <th>Y2016</th>\n",
       "      <th>Y2017</th>\n",
       "      <th>Y2018</th>\n",
       "    </tr>\n",
       "    <tr>\n",
       "      <th>Element</th>\n",
       "      <th></th>\n",
       "      <th></th>\n",
       "      <th></th>\n",
       "      <th></th>\n",
       "      <th></th>\n",
       "      <th></th>\n",
       "      <th></th>\n",
       "      <th></th>\n",
       "    </tr>\n",
       "  </thead>\n",
       "  <tbody>\n",
       "    <tr>\n",
       "      <th>Domestic supply quantity</th>\n",
       "      <td>708993</td>\n",
       "      <td>14197445</td>\n",
       "      <td>28068795</td>\n",
       "      <td>1996716.35</td>\n",
       "      <td>2021493.55</td>\n",
       "      <td>2044842.70</td>\n",
       "      <td>2088198.10</td>\n",
       "      <td>2161192.10</td>\n",
       "    </tr>\n",
       "    <tr>\n",
       "      <th>Export Quantity</th>\n",
       "      <td>599910</td>\n",
       "      <td>11840553</td>\n",
       "      <td>26026133</td>\n",
       "      <td>150020.64</td>\n",
       "      <td>157614.47</td>\n",
       "      <td>151920.46</td>\n",
       "      <td>182338.80</td>\n",
       "      <td>181594.80</td>\n",
       "    </tr>\n",
       "    <tr>\n",
       "      <th>Fat supply quantity (g/capita/day)</th>\n",
       "      <td>675050</td>\n",
       "      <td>13535000</td>\n",
       "      <td>3435732</td>\n",
       "      <td>10225.56</td>\n",
       "      <td>10235.74</td>\n",
       "      <td>10102.77</td>\n",
       "      <td>10253.84</td>\n",
       "      <td>10258.69</td>\n",
       "    </tr>\n",
       "    <tr>\n",
       "      <th>Feed</th>\n",
       "      <td>176272</td>\n",
       "      <td>3538507</td>\n",
       "      <td>7282199</td>\n",
       "      <td>216927.89</td>\n",
       "      <td>225050.22</td>\n",
       "      <td>228958.65</td>\n",
       "      <td>223705.68</td>\n",
       "      <td>233489.68</td>\n",
       "    </tr>\n",
       "    <tr>\n",
       "      <th>Food</th>\n",
       "      <td>663295</td>\n",
       "      <td>13285035</td>\n",
       "      <td>25406622</td>\n",
       "      <td>1212332.49</td>\n",
       "      <td>1232361.10</td>\n",
       "      <td>1247022.17</td>\n",
       "      <td>1258888.28</td>\n",
       "      <td>1303841.28</td>\n",
       "    </tr>\n",
       "    <tr>\n",
       "      <th>Food supply (kcal/capita/day)</th>\n",
       "      <td>674057</td>\n",
       "      <td>13511060</td>\n",
       "      <td>3329296</td>\n",
       "      <td>454257.00</td>\n",
       "      <td>453383.00</td>\n",
       "      <td>451810.00</td>\n",
       "      <td>454681.00</td>\n",
       "      <td>455261.00</td>\n",
       "    </tr>\n",
       "    <tr>\n",
       "      <th>Food supply quantity (kg/capita/yr)</th>\n",
       "      <td>658446</td>\n",
       "      <td>13185401</td>\n",
       "      <td>3163725</td>\n",
       "      <td>49650.63</td>\n",
       "      <td>49345.13</td>\n",
       "      <td>48985.28</td>\n",
       "      <td>48690.04</td>\n",
       "      <td>49056.85</td>\n",
       "    </tr>\n",
       "    <tr>\n",
       "      <th>Import Quantity</th>\n",
       "      <td>688174</td>\n",
       "      <td>13795966</td>\n",
       "      <td>28834929</td>\n",
       "      <td>274144.48</td>\n",
       "      <td>267018.46</td>\n",
       "      <td>286582.78</td>\n",
       "      <td>294559.09</td>\n",
       "      <td>287997.09</td>\n",
       "    </tr>\n",
       "    <tr>\n",
       "      <th>Losses</th>\n",
       "      <td>274353</td>\n",
       "      <td>5424803</td>\n",
       "      <td>10292107</td>\n",
       "      <td>153223.00</td>\n",
       "      <td>155439.00</td>\n",
       "      <td>157787.00</td>\n",
       "      <td>160614.00</td>\n",
       "      <td>163902.00</td>\n",
       "    </tr>\n",
       "    <tr>\n",
       "      <th>Other uses (non-food)</th>\n",
       "      <td>235554</td>\n",
       "      <td>4729749</td>\n",
       "      <td>8926728</td>\n",
       "      <td>78718.13</td>\n",
       "      <td>66254.41</td>\n",
       "      <td>69563.68</td>\n",
       "      <td>91645.97</td>\n",
       "      <td>91300.97</td>\n",
       "    </tr>\n",
       "    <tr>\n",
       "      <th>Processing</th>\n",
       "      <td>271940</td>\n",
       "      <td>5350416</td>\n",
       "      <td>10313310</td>\n",
       "      <td>282923.00</td>\n",
       "      <td>287929.00</td>\n",
       "      <td>280631.00</td>\n",
       "      <td>292836.00</td>\n",
       "      <td>308429.00</td>\n",
       "    </tr>\n",
       "    <tr>\n",
       "      <th>Production</th>\n",
       "      <td>526751</td>\n",
       "      <td>10450053</td>\n",
       "      <td>21388191</td>\n",
       "      <td>1931287.75</td>\n",
       "      <td>1947019.39</td>\n",
       "      <td>1943537.15</td>\n",
       "      <td>2030056.89</td>\n",
       "      <td>2075072.89</td>\n",
       "    </tr>\n",
       "    <tr>\n",
       "      <th>Protein supply quantity (g/capita/day)</th>\n",
       "      <td>675050</td>\n",
       "      <td>13535000</td>\n",
       "      <td>3385502</td>\n",
       "      <td>11836.46</td>\n",
       "      <td>11833.95</td>\n",
       "      <td>11779.69</td>\n",
       "      <td>11842.45</td>\n",
       "      <td>11833.56</td>\n",
       "    </tr>\n",
       "    <tr>\n",
       "      <th>Residuals</th>\n",
       "      <td>623271</td>\n",
       "      <td>12421089</td>\n",
       "      <td>24066350</td>\n",
       "      <td>30149.00</td>\n",
       "      <td>30045.00</td>\n",
       "      <td>37224.00</td>\n",
       "      <td>35500.00</td>\n",
       "      <td>34864.00</td>\n",
       "    </tr>\n",
       "    <tr>\n",
       "      <th>Seed</th>\n",
       "      <td>103537</td>\n",
       "      <td>2035933</td>\n",
       "      <td>4211574</td>\n",
       "      <td>21922.92</td>\n",
       "      <td>23976.82</td>\n",
       "      <td>23389.20</td>\n",
       "      <td>24870.14</td>\n",
       "      <td>25263.14</td>\n",
       "    </tr>\n",
       "    <tr>\n",
       "      <th>Stock Variation</th>\n",
       "      <td>571566</td>\n",
       "      <td>11329527</td>\n",
       "      <td>21464704</td>\n",
       "      <td>58749.83</td>\n",
       "      <td>34910.99</td>\n",
       "      <td>33140.12</td>\n",
       "      <td>54316.91</td>\n",
       "      <td>20577.91</td>\n",
       "    </tr>\n",
       "    <tr>\n",
       "      <th>Total Population - Both sexes</th>\n",
       "      <td>6020</td>\n",
       "      <td>112545</td>\n",
       "      <td>22995</td>\n",
       "      <td>1031585.00</td>\n",
       "      <td>1058081.00</td>\n",
       "      <td>1085107.00</td>\n",
       "      <td>1112641.00</td>\n",
       "      <td>1140605.00</td>\n",
       "    </tr>\n",
       "    <tr>\n",
       "      <th>Tourist consumption</th>\n",
       "      <td>50308</td>\n",
       "      <td>1486528</td>\n",
       "      <td>2869905</td>\n",
       "      <td>416.00</td>\n",
       "      <td>349.00</td>\n",
       "      <td>89.00</td>\n",
       "      <td>91.00</td>\n",
       "      <td>90.00</td>\n",
       "    </tr>\n",
       "  </tbody>\n",
       "</table>\n",
       "</div>"
      ],
      "text/plain": [
       "                                        Area Code  Item Code  Element Code  \\\n",
       "Element                                                                      \n",
       "Domestic supply quantity                   708993   14197445      28068795   \n",
       "Export Quantity                            599910   11840553      26026133   \n",
       "Fat supply quantity (g/capita/day)         675050   13535000       3435732   \n",
       "Feed                                       176272    3538507       7282199   \n",
       "Food                                       663295   13285035      25406622   \n",
       "Food supply (kcal/capita/day)              674057   13511060       3329296   \n",
       "Food supply quantity (kg/capita/yr)        658446   13185401       3163725   \n",
       "Import Quantity                            688174   13795966      28834929   \n",
       "Losses                                     274353    5424803      10292107   \n",
       "Other uses (non-food)                      235554    4729749       8926728   \n",
       "Processing                                 271940    5350416      10313310   \n",
       "Production                                 526751   10450053      21388191   \n",
       "Protein supply quantity (g/capita/day)     675050   13535000       3385502   \n",
       "Residuals                                  623271   12421089      24066350   \n",
       "Seed                                       103537    2035933       4211574   \n",
       "Stock Variation                            571566   11329527      21464704   \n",
       "Total Population - Both sexes                6020     112545         22995   \n",
       "Tourist consumption                         50308    1486528       2869905   \n",
       "\n",
       "                                             Y2014       Y2015       Y2016  \\\n",
       "Element                                                                      \n",
       "Domestic supply quantity                1996716.35  2021493.55  2044842.70   \n",
       "Export Quantity                          150020.64   157614.47   151920.46   \n",
       "Fat supply quantity (g/capita/day)        10225.56    10235.74    10102.77   \n",
       "Feed                                     216927.89   225050.22   228958.65   \n",
       "Food                                    1212332.49  1232361.10  1247022.17   \n",
       "Food supply (kcal/capita/day)            454257.00   453383.00   451810.00   \n",
       "Food supply quantity (kg/capita/yr)       49650.63    49345.13    48985.28   \n",
       "Import Quantity                          274144.48   267018.46   286582.78   \n",
       "Losses                                   153223.00   155439.00   157787.00   \n",
       "Other uses (non-food)                     78718.13    66254.41    69563.68   \n",
       "Processing                               282923.00   287929.00   280631.00   \n",
       "Production                              1931287.75  1947019.39  1943537.15   \n",
       "Protein supply quantity (g/capita/day)    11836.46    11833.95    11779.69   \n",
       "Residuals                                 30149.00    30045.00    37224.00   \n",
       "Seed                                      21922.92    23976.82    23389.20   \n",
       "Stock Variation                           58749.83    34910.99    33140.12   \n",
       "Total Population - Both sexes           1031585.00  1058081.00  1085107.00   \n",
       "Tourist consumption                         416.00      349.00       89.00   \n",
       "\n",
       "                                             Y2017       Y2018  \n",
       "Element                                                         \n",
       "Domestic supply quantity                2088198.10  2161192.10  \n",
       "Export Quantity                          182338.80   181594.80  \n",
       "Fat supply quantity (g/capita/day)        10253.84    10258.69  \n",
       "Feed                                     223705.68   233489.68  \n",
       "Food                                    1258888.28  1303841.28  \n",
       "Food supply (kcal/capita/day)            454681.00   455261.00  \n",
       "Food supply quantity (kg/capita/yr)       48690.04    49056.85  \n",
       "Import Quantity                          294559.09   287997.09  \n",
       "Losses                                   160614.00   163902.00  \n",
       "Other uses (non-food)                     91645.97    91300.97  \n",
       "Processing                               292836.00   308429.00  \n",
       "Production                              2030056.89  2075072.89  \n",
       "Protein supply quantity (g/capita/day)    11842.45    11833.56  \n",
       "Residuals                                 35500.00    34864.00  \n",
       "Seed                                      24870.14    25263.14  \n",
       "Stock Variation                           54316.91    20577.91  \n",
       "Total Population - Both sexes           1112641.00  1140605.00  \n",
       "Tourist consumption                          91.00       90.00  "
      ]
     },
     "execution_count": 6,
     "metadata": {},
     "output_type": "execute_result"
    }
   ],
   "source": [
    "data.groupby('Element').sum()"
   ]
  },
  {
   "cell_type": "markdown",
   "id": "b4057960-e3aa-445a-9796-22c618e38ffc",
   "metadata": {},
   "source": [
    "Question 3"
   ]
  },
  {
   "cell_type": "code",
   "execution_count": 7,
   "id": "4d48dcc9-f462-4efb-b7d0-296fc1520146",
   "metadata": {},
   "outputs": [
    {
     "data": {
      "text/plain": [
       "49"
      ]
     },
     "execution_count": 7,
     "metadata": {},
     "output_type": "execute_result"
    }
   ],
   "source": [
    "data.Area.nunique()"
   ]
  },
  {
   "cell_type": "markdown",
   "id": "4f2b2e9f-c8fd-4ead-ab9b-91878cc93465",
   "metadata": {},
   "source": [
    "Question 4"
   ]
  },
  {
   "cell_type": "code",
   "execution_count": 10,
   "id": "86f2cacb-4618-4b18-9cb4-ef4c61d943cd",
   "metadata": {},
   "outputs": [],
   "source": [
    "lst = [[35, 'Portugal', 94], [33, 'Argentina', 93], [30 , 'Brazil', 92]]\n",
    "\n",
    "col = ['Age',\"Nationality\",\"Overall\"]"
   ]
  },
  {
   "cell_type": "code",
   "execution_count": 14,
   "id": "a98de402-b7b5-4105-8e4f-2af9235367fe",
   "metadata": {},
   "outputs": [
    {
     "data": {
      "text/html": [
       "<div>\n",
       "<style scoped>\n",
       "    .dataframe tbody tr th:only-of-type {\n",
       "        vertical-align: middle;\n",
       "    }\n",
       "\n",
       "    .dataframe tbody tr th {\n",
       "        vertical-align: top;\n",
       "    }\n",
       "\n",
       "    .dataframe thead th {\n",
       "        text-align: right;\n",
       "    }\n",
       "</style>\n",
       "<table border=\"1\" class=\"dataframe\">\n",
       "  <thead>\n",
       "    <tr style=\"text-align: right;\">\n",
       "      <th></th>\n",
       "      <th>Age</th>\n",
       "      <th>Nationality</th>\n",
       "      <th>Overall</th>\n",
       "    </tr>\n",
       "  </thead>\n",
       "  <tbody>\n",
       "    <tr>\n",
       "      <th>1</th>\n",
       "      <td>35</td>\n",
       "      <td>Portugal</td>\n",
       "      <td>94</td>\n",
       "    </tr>\n",
       "    <tr>\n",
       "      <th>2</th>\n",
       "      <td>33</td>\n",
       "      <td>Argentina</td>\n",
       "      <td>93</td>\n",
       "    </tr>\n",
       "    <tr>\n",
       "      <th>3</th>\n",
       "      <td>30</td>\n",
       "      <td>Brazil</td>\n",
       "      <td>92</td>\n",
       "    </tr>\n",
       "  </tbody>\n",
       "</table>\n",
       "</div>"
      ],
      "text/plain": [
       "   Age Nationality  Overall\n",
       "1   35    Portugal       94\n",
       "2   33   Argentina       93\n",
       "3   30      Brazil       92"
      ]
     },
     "execution_count": 14,
     "metadata": {},
     "output_type": "execute_result"
    }
   ],
   "source": [
    "test = pd.DataFrame(lst, columns = col, index = [1, 2, 3])\n",
    "test.head()"
   ]
  },
  {
   "cell_type": "markdown",
   "id": "90160686-431e-4a66-9b76-1f117b7adda3",
   "metadata": {},
   "source": [
    "Question 5"
   ]
  },
  {
   "cell_type": "code",
   "execution_count": 17,
   "id": "5cc03591-b206-48a7-94da-d028e78a28d3",
   "metadata": {},
   "outputs": [
    {
     "data": {
      "text/plain": [
       "mean     140.92\n",
       "std     1671.86\n",
       "Name: Y2017, dtype: float64"
      ]
     },
     "execution_count": 17,
     "metadata": {},
     "output_type": "execute_result"
    }
   ],
   "source": [
    "data.Y2017.agg(['mean', 'std']).round(2)"
   ]
  },
  {
   "cell_type": "code",
   "execution_count": 18,
   "id": "41b58f60-4661-4d5d-9554-d4dd28ab5508",
   "metadata": {},
   "outputs": [],
   "source": [
    "array  = ([[94, 89, 63],\n",
    "\n",
    "             [93, 92, 48],\n",
    "\n",
    "             [92, 94, 56]])"
   ]
  },
  {
   "cell_type": "code",
   "execution_count": 23,
   "id": "ad48149e-c40f-403a-9c56-8d8976294064",
   "metadata": {},
   "outputs": [
    {
     "ename": "TypeError",
     "evalue": "list indices must be integers or slices, not tuple",
     "output_type": "error",
     "traceback": [
      "\u001b[1;31m---------------------------------------------------------------------------\u001b[0m",
      "\u001b[1;31mTypeError\u001b[0m                                 Traceback (most recent call last)",
      "Input \u001b[1;32mIn [25]\u001b[0m, in \u001b[0;36m<cell line: 1>\u001b[1;34m()\u001b[0m\n\u001b[1;32m----> 1\u001b[0m \u001b[43marray\u001b[49m\u001b[43m[\u001b[49m\u001b[43m:\u001b[49m\u001b[38;5;241;43m1\u001b[39;49m\u001b[43m,\u001b[49m\u001b[43m \u001b[49m\u001b[38;5;241;43m1\u001b[39;49m\u001b[43m:\u001b[49m\u001b[43m]\u001b[49m\n",
      "\u001b[1;31mTypeError\u001b[0m: list indices must be integers or slices, not tuple"
     ]
    }
   ],
   "source": [
    "array[:1, 1:]"
   ]
  },
  {
   "cell_type": "markdown",
   "id": "877c67f0-4b00-465a-835b-41cee96406bb",
   "metadata": {},
   "source": [
    "Question 15"
   ]
  },
  {
   "cell_type": "code",
   "execution_count": 29,
   "id": "fb0daf8f-33a7-4cb4-a32a-1866fd0b99ec",
   "metadata": {},
   "outputs": [
    {
     "data": {
      "text/plain": [
       "Area\n",
       "Algeria                        377.37\n",
       "Angola                         214.15\n",
       "Benin                          271.97\n",
       "Botswana                       278.52\n",
       "Burkina Faso                   317.99\n",
       "Cabo Verde                     278.41\n",
       "Cameroon                       291.53\n",
       "Central African Republic       173.70\n",
       "Chad                           252.28\n",
       "Congo                          227.08\n",
       "Côte d'Ivoire                  232.59\n",
       "Djibouti                       269.59\n",
       "Egypt                          394.87\n",
       "Eswatini                       237.71\n",
       "Ethiopia                       259.82\n",
       "Gabon                          345.41\n",
       "Gambia                         257.67\n",
       "Ghana                          241.71\n",
       "Guinea                         227.46\n",
       "Guinea-Bissau                  168.61\n",
       "Kenya                          251.73\n",
       "Lesotho                        254.50\n",
       "Liberia                        159.43\n",
       "Madagascar                     173.05\n",
       "Malawi                         272.49\n",
       "Mali                           319.85\n",
       "Mauritania                     329.77\n",
       "Mauritius                      348.06\n",
       "Morocco                        398.74\n",
       "Mozambique                     178.39\n",
       "Namibia                        253.89\n",
       "Niger                          316.78\n",
       "Nigeria                        230.08\n",
       "Rwanda                         238.70\n",
       "Sao Tome and Principe          211.04\n",
       "Senegal                        237.77\n",
       "Sierra Leone                   203.57\n",
       "South Africa                   345.95\n",
       "Sudan                          295.08\n",
       "Togo                           231.59\n",
       "Tunisia                        401.32\n",
       "Uganda                         201.20\n",
       "United Republic of Tanzania    246.35\n",
       "Zambia                         240.87\n",
       "Zimbabwe                       175.31\n",
       "Name: Y2015, dtype: float64"
      ]
     },
     "execution_count": 29,
     "metadata": {},
     "output_type": "execute_result"
    }
   ],
   "source": [
    "test2 = data[data['Element'] == 'Protein supply quantity (g/capita/day)']\n",
    "test2.groupby('Area')['Y2015'].sum()"
   ]
  },
  {
   "cell_type": "code",
   "execution_count": 32,
   "id": "661893fe-e50c-4f9c-a0f9-f58e8e240388",
   "metadata": {},
   "outputs": [],
   "source": [
    "y = [(2, 4), (7, 8), (1, 5, 9)]"
   ]
  },
  {
   "cell_type": "code",
   "execution_count": 34,
   "id": "b6f535d6-e9d0-44f3-b175-bae8de3a1c4b",
   "metadata": {},
   "outputs": [
    {
     "name": "stdout",
     "output_type": "stream",
     "text": [
      "8\n"
     ]
    }
   ],
   "source": [
    "x = y[1][-1]\n",
    "print(x)"
   ]
  },
  {
   "cell_type": "markdown",
   "id": "b581d089-77d4-4033-bdb4-1b7cc9852e85",
   "metadata": {},
   "source": [
    "Question 13"
   ]
  },
  {
   "cell_type": "code",
   "execution_count": 36,
   "id": "2bd8c094-3d9c-40e2-b9e5-30e76ad88f18",
   "metadata": {},
   "outputs": [
    {
     "data": {
      "text/html": [
       "<div>\n",
       "<style scoped>\n",
       "    .dataframe tbody tr th:only-of-type {\n",
       "        vertical-align: middle;\n",
       "    }\n",
       "\n",
       "    .dataframe tbody tr th {\n",
       "        vertical-align: top;\n",
       "    }\n",
       "\n",
       "    .dataframe thead th {\n",
       "        text-align: right;\n",
       "    }\n",
       "</style>\n",
       "<table border=\"1\" class=\"dataframe\">\n",
       "  <thead>\n",
       "    <tr style=\"text-align: right;\">\n",
       "      <th></th>\n",
       "      <th>Y2015</th>\n",
       "      <th>Y2018</th>\n",
       "    </tr>\n",
       "    <tr>\n",
       "      <th>Item</th>\n",
       "      <th></th>\n",
       "      <th></th>\n",
       "    </tr>\n",
       "  </thead>\n",
       "  <tbody>\n",
       "    <tr>\n",
       "      <th>Alcohol, Non-Food</th>\n",
       "      <td>2180.00</td>\n",
       "      <td>2293.00</td>\n",
       "    </tr>\n",
       "    <tr>\n",
       "      <th>Alcoholic Beverages</th>\n",
       "      <td>98783.72</td>\n",
       "      <td>97847.27</td>\n",
       "    </tr>\n",
       "    <tr>\n",
       "      <th>Animal Products</th>\n",
       "      <td>11811.73</td>\n",
       "      <td>11578.61</td>\n",
       "    </tr>\n",
       "    <tr>\n",
       "      <th>Animal fats</th>\n",
       "      <td>200675.72</td>\n",
       "      <td>269648.27</td>\n",
       "    </tr>\n",
       "    <tr>\n",
       "      <th>Apples and products</th>\n",
       "      <td>10559.15</td>\n",
       "      <td>9640.51</td>\n",
       "    </tr>\n",
       "    <tr>\n",
       "      <th>...</th>\n",
       "      <td>...</td>\n",
       "      <td>...</td>\n",
       "    </tr>\n",
       "    <tr>\n",
       "      <th>Vegetables, Other</th>\n",
       "      <td>158104.08</td>\n",
       "      <td>163987.21</td>\n",
       "    </tr>\n",
       "    <tr>\n",
       "      <th>Vegetal Products</th>\n",
       "      <td>107064.17</td>\n",
       "      <td>107775.39</td>\n",
       "    </tr>\n",
       "    <tr>\n",
       "      <th>Wheat and products</th>\n",
       "      <td>234710.51</td>\n",
       "      <td>242645.19</td>\n",
       "    </tr>\n",
       "    <tr>\n",
       "      <th>Wine</th>\n",
       "      <td>4251.81</td>\n",
       "      <td>4039.32</td>\n",
       "    </tr>\n",
       "    <tr>\n",
       "      <th>Yams</th>\n",
       "      <td>203151.78</td>\n",
       "      <td>221272.09</td>\n",
       "    </tr>\n",
       "  </tbody>\n",
       "</table>\n",
       "<p>119 rows × 2 columns</p>\n",
       "</div>"
      ],
      "text/plain": [
       "                         Y2015      Y2018\n",
       "Item                                     \n",
       "Alcohol, Non-Food      2180.00    2293.00\n",
       "Alcoholic Beverages   98783.72   97847.27\n",
       "Animal Products       11811.73   11578.61\n",
       "Animal fats          200675.72  269648.27\n",
       "Apples and products   10559.15    9640.51\n",
       "...                        ...        ...\n",
       "Vegetables, Other    158104.08  163987.21\n",
       "Vegetal Products     107064.17  107775.39\n",
       "Wheat and products   234710.51  242645.19\n",
       "Wine                   4251.81    4039.32\n",
       "Yams                 203151.78  221272.09\n",
       "\n",
       "[119 rows x 2 columns]"
      ]
     },
     "execution_count": 36,
     "metadata": {},
     "output_type": "execute_result"
    }
   ],
   "source": [
    "data.groupby('Item')[['Y2015', 'Y2018']].sum()"
   ]
  },
  {
   "cell_type": "code",
   "execution_count": 37,
   "id": "baf7706e-8dd8-48ca-9804-a029b8f7495d",
   "metadata": {},
   "outputs": [
    {
     "ename": "TypeError",
     "evalue": "'tuple' object does not support item assignment",
     "output_type": "error",
     "traceback": [
      "\u001b[1;31m---------------------------------------------------------------------------\u001b[0m",
      "\u001b[1;31mTypeError\u001b[0m                                 Traceback (most recent call last)",
      "Input \u001b[1;32mIn [37]\u001b[0m, in \u001b[0;36m<cell line: 3>\u001b[1;34m()\u001b[0m\n\u001b[0;32m      1\u001b[0m my_tuppy \u001b[38;5;241m=\u001b[39m (\u001b[38;5;241m1\u001b[39m,\u001b[38;5;241m2\u001b[39m,\u001b[38;5;241m5\u001b[39m,\u001b[38;5;241m8\u001b[39m)\n\u001b[1;32m----> 3\u001b[0m my_tuppy[\u001b[38;5;241m2\u001b[39m] \u001b[38;5;241m=\u001b[39m \u001b[38;5;241m6\u001b[39m\n",
      "\u001b[1;31mTypeError\u001b[0m: 'tuple' object does not support item assignment"
     ]
    }
   ],
   "source": [
    "my_tuppy = (1,2,5,8)\n",
    "\n",
    "my_tuppy[2] = 6"
   ]
  },
  {
   "cell_type": "markdown",
   "id": "c9fe02dd-428b-477b-8df1-1e7163ea3243",
   "metadata": {},
   "source": [
    "Question 16"
   ]
  },
  {
   "cell_type": "code",
   "execution_count": 44,
   "id": "e84376c3-edeb-4595-a014-096c08488ab8",
   "metadata": {},
   "outputs": [
    {
     "data": {
      "text/plain": [
       "1589"
      ]
     },
     "execution_count": 44,
     "metadata": {},
     "output_type": "execute_result"
    }
   ],
   "source": [
    "data.Y2014.isna().sum()"
   ]
  },
  {
   "cell_type": "code",
   "execution_count": 43,
   "id": "31027e7b-a51f-47b2-9859-0b0332022b31",
   "metadata": {},
   "outputs": [
    {
     "data": {
      "text/plain": [
       "2.6771573946153584"
      ]
     },
     "execution_count": 43,
     "metadata": {},
     "output_type": "execute_result"
    }
   ],
   "source": [
    "(data.Y2014.isna().sum()/data.Y2014.count())*100"
   ]
  },
  {
   "cell_type": "markdown",
   "id": "ba1548af-820f-4b7a-a2e1-b1c63acd4423",
   "metadata": {},
   "source": [
    "Question 18 & 19"
   ]
  },
  {
   "cell_type": "code",
   "execution_count": 46,
   "id": "50f3ca6f-ceef-4e1d-81e2-3f298d6fce6b",
   "metadata": {},
   "outputs": [
    {
     "data": {
      "text/plain": [
       "Area\n",
       "Nigeria                        1483268.23\n",
       "Egypt                           866379.92\n",
       "South Africa                    517590.54\n",
       "Ethiopia                        448683.76\n",
       "Morocco                         388495.36\n",
       "Ghana                           337599.06\n",
       "Algeria                         325644.27\n",
       "United Republic of Tanzania     322616.85\n",
       "Kenya                           264660.66\n",
       "Sudan                           239931.92\n",
       "Cameroon                        232030.43\n",
       "Angola                          229159.57\n",
       "Côte d'Ivoire                   224599.01\n",
       "Uganda                          213950.38\n",
       "Malawi                          181098.71\n",
       "Mozambique                      161407.98\n",
       "Mauritania                      156665.46\n",
       "Mali                            149928.33\n",
       "Madagascar                      131197.73\n",
       "Niger                           126707.58\n",
       "Benin                           124771.22\n",
       "Tunisia                         124167.20\n",
       "Zambia                          103223.77\n",
       "Burkina Faso                    101855.07\n",
       "Guinea                           98138.87\n",
       "Senegal                          95681.15\n",
       "Zimbabwe                         75919.34\n",
       "Rwanda                           73663.69\n",
       "Chad                             71594.68\n",
       "Sierra Leone                     55311.33\n",
       "Eswatini                         54343.33\n",
       "Mauritius                        51114.83\n",
       "Togo                             49841.88\n",
       "Congo                            41181.68\n",
       "Central African Republic         29937.00\n",
       "Namibia                          29874.89\n",
       "Liberia                          29342.20\n",
       "Gabon                            27979.64\n",
       "Gambia                           23154.18\n",
       "Djibouti                         22729.91\n",
       "Botswana                         22101.30\n",
       "Lesotho                          21267.96\n",
       "Guinea-Bissau                    19102.77\n",
       "Cabo Verde                       14650.74\n",
       "Sao Tome and Principe            12662.63\n",
       "Seychelles                         442.34\n",
       "Comoros                             59.84\n",
       "Sudan (former)                       0.00\n",
       "Ethiopia PDR                         0.00\n",
       "Name: Y2017, dtype: float64"
      ]
     },
     "execution_count": 46,
     "metadata": {},
     "output_type": "execute_result"
    }
   ],
   "source": [
    "data.groupby('Area')['Y2017'].sum().sort_values(ascending = False)"
   ]
  },
  {
   "cell_type": "markdown",
   "id": "7d17367e-5ba9-4528-8892-adb0db3164db",
   "metadata": {},
   "source": [
    "Question 20"
   ]
  },
  {
   "cell_type": "code",
   "execution_count": 47,
   "id": "d0b20d06-a47b-4278-97af-983a1df32555",
   "metadata": {},
   "outputs": [
    {
     "data": {
      "text/plain": [
       "Element\n",
       "Domestic supply quantity                  2088198.10\n",
       "Export Quantity                            182338.80\n",
       "Fat supply quantity (g/capita/day)          10253.84\n",
       "Feed                                       223705.68\n",
       "Food                                      1258888.28\n",
       "Food supply (kcal/capita/day)              454681.00\n",
       "Food supply quantity (kg/capita/yr)         48690.04\n",
       "Import Quantity                            294559.09\n",
       "Losses                                     160614.00\n",
       "Other uses (non-food)                       91645.97\n",
       "Processing                                 292836.00\n",
       "Production                                2030056.89\n",
       "Protein supply quantity (g/capita/day)      11842.45\n",
       "Residuals                                   35500.00\n",
       "Seed                                        24870.14\n",
       "Stock Variation                             54316.91\n",
       "Total Population - Both sexes             1112641.00\n",
       "Tourist consumption                            91.00\n",
       "Name: Y2017, dtype: float64"
      ]
     },
     "execution_count": 47,
     "metadata": {},
     "output_type": "execute_result"
    }
   ],
   "source": [
    "data.groupby('Element')['Y2017'].sum()"
   ]
  },
  {
   "cell_type": "code",
   "execution_count": null,
   "id": "bc4c535f-4e8d-4c5d-aafe-6ccc812cc424",
   "metadata": {},
   "outputs": [],
   "source": []
  },
  {
   "cell_type": "code",
   "execution_count": null,
   "id": "e8cdd8de-7b81-4031-b1b8-075055d64b53",
   "metadata": {},
   "outputs": [],
   "source": []
  }
 ],
 "metadata": {
  "kernelspec": {
   "display_name": "Python 3 (ipykernel)",
   "language": "python",
   "name": "python3"
  },
  "language_info": {
   "codemirror_mode": {
    "name": "ipython",
    "version": 3
   },
   "file_extension": ".py",
   "mimetype": "text/x-python",
   "name": "python",
   "nbconvert_exporter": "python",
   "pygments_lexer": "ipython3",
   "version": "3.9.12"
  }
 },
 "nbformat": 4,
 "nbformat_minor": 5
}
